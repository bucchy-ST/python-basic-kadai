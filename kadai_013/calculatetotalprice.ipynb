{
  "nbformat": 4,
  "nbformat_minor": 0,
  "metadata": {
    "colab": {
      "provenance": []
    },
    "kernelspec": {
      "name": "python3",
      "display_name": "Python 3"
    },
    "language_info": {
      "name": "python"
    }
  },
  "cells": [
    {
      "cell_type": "code",
      "execution_count": 3,
      "metadata": {
        "colab": {
          "base_uri": "https://localhost:8080/"
        },
        "id": "8-NsFH3MJyXo",
        "outputId": "ddb60416-f01a-4452-84ab-08de6f5e9dad"
      },
      "outputs": [
        {
          "output_type": "stream",
          "name": "stdout",
          "text": [
            "3300.0\n"
          ]
        }
      ],
      "source": [
        "# 欲しい結果から関数名を付ける。→トータルの金額を計算→calculate_total_price\n",
        "# 税込み金額：total_price\n",
        "# 商品の金額：price\n",
        "# 消費税率：sales_tax\n",
        "\n",
        "def calculate_total_price(price, sales_tax):\n",
        "    total_price = price + (price * sales_tax)\n",
        "    return total_price\n",
        "\n",
        "price = 3000\n",
        "sales_tax = 0.1 # 税率10%\n",
        "\n",
        "total_price = calculate_total_price(price, sales_tax)\n",
        "print(total_price)"
      ]
    }
  ]
}