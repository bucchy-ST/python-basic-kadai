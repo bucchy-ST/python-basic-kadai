{
  "nbformat": 4,
  "nbformat_minor": 0,
  "metadata": {
    "colab": {
      "provenance": []
    },
    "kernelspec": {
      "name": "python3",
      "display_name": "Python 3"
    },
    "language_info": {
      "name": "python"
    }
  },
  "cells": [
    {
      "cell_type": "code",
      "execution_count": 5,
      "metadata": {
        "colab": {
          "base_uri": "https://localhost:8080/"
        },
        "id": "9NeAhVh47D0b",
        "outputId": "541b1f85-6bc1-40d0-e2b6-e814d9b3b4fd"
      },
      "outputs": [
        {
          "output_type": "stream",
          "name": "stdout",
          "text": [
            "75.0  cm²\n"
          ]
        }
      ],
      "source": [
        "top = 10\n",
        "bottom = 20\n",
        "height = 5\n",
        "# print((top + bottom)* height / 2 + \"cm²\")\n",
        "# 計算式がないので、出力しない。↑では浮動小数点と文字列がいっしょなのでエラーになる。\n",
        "area = (top + bottom)* height / 2\n",
        "# ↑計算させてareaに代入する。\n",
        "print(f\"{area}  cm²\")"
      ]
    }
  ]
}