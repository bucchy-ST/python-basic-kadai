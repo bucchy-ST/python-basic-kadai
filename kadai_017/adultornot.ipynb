{
  "nbformat": 4,
  "nbformat_minor": 0,
  "metadata": {
    "colab": {
      "provenance": []
    },
    "kernelspec": {
      "name": "python3",
      "display_name": "Python 3"
    },
    "language_info": {
      "name": "python"
    }
  },
  "cells": [
    {
      "cell_type": "code",
      "execution_count": 3,
      "metadata": {
        "colab": {
          "base_uri": "https://localhost:8080/"
        },
        "id": "A_6ZfFTiOZov",
        "outputId": "c0a9f982-9e2f-4a6d-d978-f84131fb3324"
      },
      "outputs": [
        {
          "output_type": "stream",
          "name": "stdout",
          "text": [
            "ぶっちぃは大人です\n",
            "うっちぃは大人です\n",
            "ぐっちぃは大人ではありません\n"
          ]
        }
      ],
      "source": [
        "# Humanクラスの作成\n",
        "class Human:\n",
        "    def __init__(self, name, age):\n",
        "        self.name = name\n",
        "        self.age = age\n",
        "\n",
        "# check_adultメソッドの作成\n",
        "    def check_adult(self):\n",
        "        if self.age < 20: #　条件分岐部分\n",
        "            print(f\"{self.name}は大人ではありません\")\n",
        "        else:\n",
        "            print(f\"{self.name}は大人です\")\n",
        "\n",
        "# Humanクラスのインスタンスを複数作ってリスト化\n",
        "humans = [Human(\"ぶっちぃ\", 48), Human(\"うっちぃ\", 38), Human(\"ぐっちぃ\", 18)]\n",
        "\n",
        "# リストの要素をCheck_adultを繰り返し処理で呼び出す\n",
        "for human in humans:\n",
        "    human.check_adult()"
      ]
    }
  ]
}