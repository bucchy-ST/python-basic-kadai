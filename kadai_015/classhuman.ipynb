{
  "nbformat": 4,
  "nbformat_minor": 0,
  "metadata": {
    "colab": {
      "provenance": []
    },
    "kernelspec": {
      "name": "python3",
      "display_name": "Python 3"
    },
    "language_info": {
      "name": "python"
    }
  },
  "cells": [
    {
      "cell_type": "code",
      "execution_count": 1,
      "metadata": {
        "colab": {
          "base_uri": "https://localhost:8080/"
        },
        "id": "ypHNOtKnqLxj",
        "outputId": "fa44600f-fb8d-4bde-f58e-524231d212f4"
      },
      "outputs": [
        {
          "output_type": "stream",
          "name": "stdout",
          "text": [
            "ぶっちぃ, 48\n"
          ]
        }
      ],
      "source": [
        "# class Human:\n",
        "#     def __init__(self, name, age):\n",
        "#         self.name = name\n",
        "#         self.age = age\n",
        "\n",
        "# human = Human(\"ぶっちぃ\", 48)\n",
        "\n",
        "# print(human.name)\n",
        "# print(human.age)\n",
        "\n",
        "# ↑ の実行結果は「ぶっちぃ　48」と出るけれど、メソッドがない。\n",
        "\n",
        "class Human:\n",
        "    def __init__(self, name, age):\n",
        "        self.name = name\n",
        "        self.age = age\n",
        "    # メソッドを定義する\n",
        "    def printinfo(self):\n",
        "        print(f\"{self.name}, {self.age}\")\n",
        "# インスタンス化する\n",
        "human = Human(\"ぶっちぃ\", 48)\n",
        "# メソッドを呼び出す\n",
        "human.printinfo()"
      ]
    }
  ]
}