{
  "nbformat": 4,
  "nbformat_minor": 0,
  "metadata": {
    "colab": {
      "provenance": []
    },
    "kernelspec": {
      "name": "python3",
      "display_name": "Python 3"
    },
    "language_info": {
      "name": "python"
    }
  },
  "cells": [
    {
      "cell_type": "code",
      "execution_count": 18,
      "metadata": {
        "colab": {
          "base_uri": "https://localhost:8080/"
        },
        "id": "tov8DjmavJNw",
        "outputId": "2d28a8c8-9e9f-48d8-b44a-81876f745b92"
      },
      "outputs": [
        {
          "output_type": "stream",
          "name": "stdout",
          "text": [
            "24\n",
            "Fizz\n"
          ]
        }
      ],
      "source": [
        "import random\n",
        "var = random.randint(0,30)\n",
        "\n",
        "print(var)\n",
        "\n",
        "#if var % 3 == 0:\n",
        "#    print(\"Fizz\")\n",
        "#elif var % 5 == 0:\n",
        "#    print(\"Buzz\")\n",
        "#elif var % 3 == 0 and var % 5 == 0:\n",
        "#    print(\"FizzBuzz\")\n",
        "#else:\n",
        "#    print(var)\n",
        "# ↑で進めたらいつまでたっても「FizzBuzz」が出ない。\n",
        "# 最初に判定させる？\n",
        "\n",
        "if var % 3 == 0 and var % 5 == 0:\n",
        "    print(\"FizzBuzz\")\n",
        "elif var % 3 == 0:\n",
        "    print(\"Fizz\")\n",
        "elif var % 5 == 0:\n",
        "    print(\"Buzz\")\n",
        "else:\n",
        "    print(var)\n",
        "# 最初に3の倍数と5の倍数の両方に該当する部分を判定させたらFizzBuzzも出た。\n"
      ]
    }
  ]
}