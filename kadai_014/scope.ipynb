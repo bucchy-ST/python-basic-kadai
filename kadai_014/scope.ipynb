{
  "nbformat": 4,
  "nbformat_minor": 0,
  "metadata": {
    "colab": {
      "provenance": []
    },
    "kernelspec": {
      "name": "python3",
      "display_name": "Python 3"
    },
    "language_info": {
      "name": "python"
    }
  },
  "cells": [
    {
      "cell_type": "code",
      "execution_count": 1,
      "metadata": {
        "colab": {
          "base_uri": "https://localhost:8080/"
        },
        "id": "9vbGImkIfWh-",
        "outputId": "ff854cce-4395-4fe5-d26c-b085089420cf"
      },
      "outputs": [
        {
          "output_type": "stream",
          "name": "stdout",
          "text": [
            "330.0\n"
          ]
        }
      ],
      "source": [
        "price1 = 100\n",
        "price2 = 200\n",
        "tax = 1.1  # ← ② ローカルスコープからグローバルスコープに出して定義する。\n",
        "\n",
        "def total():\n",
        "#    tax = 1.1  ← ① ローカルスコープでしか使えないところに「tax」が定義されている。\n",
        "    return price1 + price2\n",
        "\n",
        "print (total() * tax)  # ③ この部分はグローバルスコープなので、「tax」をグローバルスコープに出した後はきちんと計算する。"
      ]
    }
  ]
}